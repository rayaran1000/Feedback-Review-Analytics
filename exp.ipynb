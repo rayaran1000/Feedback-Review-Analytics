{
 "cells": [
  {
   "cell_type": "code",
   "execution_count": 3,
   "metadata": {},
   "outputs": [],
   "source": [
    "str = ['**Key topics:** Product quality, customer service, workload management, meeting effectiveness, work-life balance', '**Overall Sentiment:** Positive', '**Emerging trends:**', '- Emphasis on the value of the product and its impact on customers', \"- Recognition of the employee's passion and enthusiasm\", '- Need for better workload management and time efficiency', '- Importance of embracing constructive criticism for growth']"
   ]
  },
  {
   "cell_type": "code",
   "execution_count": 1,
   "metadata": {},
   "outputs": [],
   "source": [
    "str1 = ['- Emphasis on the value of the product and its impact on customers', \"- Recognition of the employee's passion and enthusiasm\", '- Need for better workload management and time efficiency', '- Importance of embracing constructive criticism for growth']"
   ]
  },
  {
   "cell_type": "code",
   "execution_count": 12,
   "metadata": {},
   "outputs": [
    {
     "data": {
      "text/plain": [
       "'Positive'"
      ]
     },
     "execution_count": 12,
     "metadata": {},
     "output_type": "execute_result"
    }
   ],
   "source": [
    "str[1][23:]"
   ]
  },
  {
   "cell_type": "code",
   "execution_count": 12,
   "metadata": {},
   "outputs": [
    {
     "data": {
      "text/plain": [
       "['-',\n",
       " 'Appreciation',\n",
       " 'for',\n",
       " 'the',\n",
       " 'customer-centric',\n",
       " 'approach',\n",
       " 'and',\n",
       " 'passion']"
      ]
     },
     "execution_count": 12,
     "metadata": {},
     "output_type": "execute_result"
    }
   ],
   "source": [
    "str[0].split()"
   ]
  },
  {
   "cell_type": "code",
   "execution_count": 22,
   "metadata": {},
   "outputs": [
    {
     "name": "stdout",
     "output_type": "stream",
     "text": [
      "Appreciation for the customer-centric approach and passion,Recognition of expertise in proposal development and client engagement,Need for better time management and workload prioritization,Importance of embracing constructive feedback for growth\n"
     ]
    }
   ],
   "source": [
    "a = \",\".join([\" \".join(word.split()[1:]) for word in str])\n",
    "print(a)"
   ]
  },
  {
   "cell_type": "code",
   "execution_count": 2,
   "metadata": {},
   "outputs": [
    {
     "data": {
      "text/plain": [
       "\"Emphasis on the value of the product and its impact on customers,Recognition of the employee's passion and enthusiasm,Need for better workload management and time efficiency,Importance of embracing constructive criticism for growth\""
      ]
     },
     "execution_count": 2,
     "metadata": {},
     "output_type": "execute_result"
    }
   ],
   "source": [
    "\",\".join([\" \".join(word.split()[1:]) for word in str1])"
   ]
  },
  {
   "cell_type": "code",
   "execution_count": 3,
   "metadata": {},
   "outputs": [
    {
     "ename": "SyntaxError",
     "evalue": "invalid syntax (44795247.py, line 1)",
     "output_type": "error",
     "traceback": [
      "\u001b[1;36m  Cell \u001b[1;32mIn[3], line 1\u001b[1;36m\u001b[0m\n\u001b[1;33m    str2 = [**Key topics:** Product quality, customer service, workload management, meeting effectiveness, work-life balance]\u001b[0m\n\u001b[1;37m            ^\u001b[0m\n\u001b[1;31mSyntaxError\u001b[0m\u001b[1;31m:\u001b[0m invalid syntax\n"
     ]
    }
   ],
   "source": [
    "str2 = [**Key topics:** Product quality, customer service, workload management, meeting effectiveness, work-life balance]                                                               \n",
    "str3 = [**Overall Sentiment:** Positive]"
   ]
  },
  {
   "cell_type": "code",
   "execution_count": 4,
   "metadata": {},
   "outputs": [
    {
     "ename": "SyntaxError",
     "evalue": "invalid syntax. Perhaps you forgot a comma? (1337155744.py, line 1)",
     "output_type": "error",
     "traceback": [
      "\u001b[1;36m  Cell \u001b[1;32mIn[4], line 1\u001b[1;36m\u001b[0m\n\u001b[1;33m    str2 = [Key topics: Product quality, customer service, workload management, meeting effectiveness, work-life balance]\u001b[0m\n\u001b[1;37m            ^\u001b[0m\n\u001b[1;31mSyntaxError\u001b[0m\u001b[1;31m:\u001b[0m invalid syntax. Perhaps you forgot a comma?\n"
     ]
    }
   ],
   "source": [
    "str2 = [Key topics: Product quality, customer service, workload management, meeting effectiveness, work-life balance]                                                               \n",
    "str3 = [Overall Sentiment: Positive]"
   ]
  },
  {
   "cell_type": "code",
   "execution_count": 11,
   "metadata": {},
   "outputs": [],
   "source": [
    "a = '**Key topics:** Product quality, customer service, workload management, meeting effectiveness, work-life balance'"
   ]
  },
  {
   "cell_type": "code",
   "execution_count": 15,
   "metadata": {},
   "outputs": [
    {
     "data": {
      "text/plain": [
       "' Product quality, customer service, workload management, meeting effectiveness, work-life balance'"
      ]
     },
     "execution_count": 15,
     "metadata": {},
     "output_type": "execute_result"
    }
   ],
   "source": [
    "a.split(\"**\")[2]"
   ]
  },
  {
   "cell_type": "code",
   "execution_count": null,
   "metadata": {},
   "outputs": [],
   "source": []
  }
 ],
 "metadata": {
  "kernelspec": {
   "display_name": "feedback",
   "language": "python",
   "name": "python3"
  },
  "language_info": {
   "codemirror_mode": {
    "name": "ipython",
    "version": 3
   },
   "file_extension": ".py",
   "mimetype": "text/x-python",
   "name": "python",
   "nbconvert_exporter": "python",
   "pygments_lexer": "ipython3",
   "version": "3.10.14"
  }
 },
 "nbformat": 4,
 "nbformat_minor": 2
}
